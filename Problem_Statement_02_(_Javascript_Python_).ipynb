{
  "cells": [
    {
      "cell_type": "code",
      "source": [],
      "metadata": {
        "id": "LLtDyn9kAuBe"
      },
      "execution_count": null,
      "outputs": []
    },
    {
      "cell_type": "markdown",
      "source": [
        "Python - 2\n",
        "\n",
        "Find nth fibonacci number. If it starts with 0,1,1,2.....\n",
        "\n",
        "Also, Print Incorrect Input if n is less than or equal to 0.\n",
        "\n",
        "Input Format:\n",
        "\n",
        "Call the function with n\n",
        "\n",
        "Output Format:\n",
        "\n",
        "Print the nth fibonacci number\n",
        "\n",
        "Sample Input 0:\n",
        "\n",
        "4\n",
        "\n",
        "Sample Output 0:\n",
        "\n",
        "2\n",
        "\n",
        "Sample Input 1:\n",
        "\n",
        " 0\n",
        "\n",
        "Sample Output 1:\n",
        "\n",
        "Incorrect input\n"
      ],
      "metadata": {
        "id": "_JIlLzSyBAfj"
      }
    },
    {
      "cell_type": "code",
      "source": [
        "# using function\n",
        "def Fibonacci(n):\n",
        "\n",
        "# condtional statement\n",
        "\tif n<= 0:\n",
        "\t\tprint(\"Incorrect input\")\n",
        "\telif n == 1:\n",
        "\t\treturn 0\n",
        "\telif n == 2:\n",
        "\t\treturn 1\n",
        "\telse:\n",
        "\t\treturn Fibonacci(n-1)+Fibonacci(n-2)\n",
        "\n",
        "\n",
        "n = int(input(\"Enter the input : \"))\n",
        "\n",
        "#calling the function\n",
        "print(\"The nth Fibonacci number : \" ,Fibonacci(n))\n"
      ],
      "metadata": {
        "id": "vdA_aXfIAuJ_",
        "colab": {
          "base_uri": "https://localhost:8080/"
        },
        "outputId": "fa62a428-30db-4ae9-afe4-af1a2ff4cee4"
      },
      "execution_count": 77,
      "outputs": [
        {
          "output_type": "stream",
          "name": "stdout",
          "text": [
            "Enter the input : 4\n",
            "The nth Fibonacci number :  2\n"
          ]
        }
      ]
    },
    {
      "cell_type": "code",
      "source": [],
      "metadata": {
        "id": "aGcmdEPKAuLS"
      },
      "execution_count": 82,
      "outputs": []
    }
  ],
  "metadata": {
    "colab": {
      "provenance": []
    },
    "kernelspec": {
      "display_name": "Python 3",
      "name": "python3"
    }
  },
  "nbformat": 4,
  "nbformat_minor": 0
}